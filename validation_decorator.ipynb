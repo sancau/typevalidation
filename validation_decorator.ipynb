{
 "cells": [
  {
   "cell_type": "markdown",
   "metadata": {},
   "source": [
    "## Type validation decorator\n",
    "#### Provides one-liner to validate the types of the kwargs passed to a function"
   ]
  },
  {
   "cell_type": "code",
   "execution_count": 65,
   "metadata": {
    "collapsed": false
   },
   "outputs": [],
   "source": [
    "from functools import wraps\n",
    "\n",
    "def validate_types(**types):\n",
    "    def decorator(foo):\n",
    "        @wraps(foo)\n",
    "        def validator(*args, **kwargs):\n",
    "            errors = []\n",
    "            for param, value in kwargs.items():\n",
    "                expected = types.get(param, object)\n",
    "                if not isinstance(expected, list):\n",
    "                    expected = [expected, ]\n",
    "                if not any([isinstance(value, t) for t in expected]):\n",
    "                    actual = type(value)\n",
    "                    errors.append({\n",
    "                        'param_name': param,\n",
    "                        'param_value': value,\n",
    "                        'reason': 'Expected {}, got {}'.format(expected, actual)\n",
    "                    })\n",
    "            if errors:\n",
    "                raise ValueError(errors)\n",
    "            return foo(*args, **kwargs)\n",
    "        return validator\n",
    "    return decorator"
   ]
  },
  {
   "cell_type": "markdown",
   "metadata": {},
   "source": [
    "## Usage\n",
    "<ol>\n",
    "    <li>Can pass either a single type or a list of allowed types</li>\n",
    "    <li>Works with kwargs only, both required and optional</li>\n",
    "    <li>Validates only explicitly passed kwargs</li>\n",
    "    <li>Ignoring any other positional arguments and kwargs</li>\n",
    "</ol>"
   ]
  },
  {
   "cell_type": "code",
   "execution_count": 66,
   "metadata": {
    "collapsed": false
   },
   "outputs": [],
   "source": [
    "@validate_types(a=[int, float], b=int, kwarg=[str, type(None)])\n",
    "def foo(arg, kwarg=None, *, a, b):  # <a>, <b> -> required kwargs; <kwarg> -> optional kwarg\n",
    "    return a + b\n",
    "\n",
    "\n",
    "@validate_types(a=str, b=str)\n",
    "def bar(*, a, b):\n",
    "    return a + b"
   ]
  },
  {
   "cell_type": "markdown",
   "metadata": {},
   "source": [
    "## Functions call / errors examples:"
   ]
  },
  {
   "cell_type": "code",
   "execution_count": 67,
   "metadata": {
    "collapsed": false
   },
   "outputs": [
    {
     "data": {
      "text/plain": [
       "(84.2, 84)"
      ]
     },
     "execution_count": 67,
     "metadata": {},
     "output_type": "execute_result"
    }
   ],
   "source": [
    "foo(42, kwarg='some_param', a=42.2, b=42), foo(42, a=42, b=42)"
   ]
  },
  {
   "cell_type": "code",
   "execution_count": 68,
   "metadata": {
    "collapsed": false
   },
   "outputs": [
    {
     "ename": "ValueError",
     "evalue": "[{'param_value': '42.2', 'param_name': 'a', 'reason': \"Expected [<class 'int'>, <class 'float'>], got <class 'str'>\"}, {'param_value': 42.42, 'param_name': 'b', 'reason': \"Expected [<class 'int'>], got <class 'float'>\"}]",
     "output_type": "error",
     "traceback": [
      "\u001b[0;31m---------------------------------------------------------------------------\u001b[0m",
      "\u001b[0;31mValueError\u001b[0m                                Traceback (most recent call last)",
      "\u001b[0;32m<ipython-input-68-9e48226ddd1a>\u001b[0m in \u001b[0;36m<module>\u001b[0;34m()\u001b[0m\n\u001b[0;32m----> 1\u001b[0;31m \u001b[0mfoo\u001b[0m\u001b[1;33m(\u001b[0m\u001b[0ma\u001b[0m\u001b[1;33m=\u001b[0m\u001b[1;34m'42.2'\u001b[0m\u001b[1;33m,\u001b[0m \u001b[0mb\u001b[0m\u001b[1;33m=\u001b[0m\u001b[1;36m42.42\u001b[0m\u001b[1;33m)\u001b[0m\u001b[1;33m\u001b[0m\u001b[0m\n\u001b[0m",
      "\u001b[0;32m<ipython-input-65-f836e16ea9b4>\u001b[0m in \u001b[0;36mvalidator\u001b[0;34m(*args, **kwargs)\u001b[0m\n\u001b[1;32m     19\u001b[0m                     })\n\u001b[1;32m     20\u001b[0m             \u001b[1;32mif\u001b[0m \u001b[0merrors\u001b[0m\u001b[1;33m:\u001b[0m\u001b[1;33m\u001b[0m\u001b[0m\n\u001b[0;32m---> 21\u001b[0;31m                 \u001b[1;32mraise\u001b[0m \u001b[0mValueError\u001b[0m\u001b[1;33m(\u001b[0m\u001b[0merrors\u001b[0m\u001b[1;33m)\u001b[0m\u001b[1;33m\u001b[0m\u001b[0m\n\u001b[0m\u001b[1;32m     22\u001b[0m             \u001b[1;32mreturn\u001b[0m \u001b[0mfoo\u001b[0m\u001b[1;33m(\u001b[0m\u001b[1;33m*\u001b[0m\u001b[0margs\u001b[0m\u001b[1;33m,\u001b[0m \u001b[1;33m**\u001b[0m\u001b[0mkwargs\u001b[0m\u001b[1;33m)\u001b[0m\u001b[1;33m\u001b[0m\u001b[0m\n\u001b[1;32m     23\u001b[0m         \u001b[1;32mreturn\u001b[0m \u001b[0mvalidator\u001b[0m\u001b[1;33m\u001b[0m\u001b[0m\n",
      "\u001b[0;31mValueError\u001b[0m: [{'param_value': '42.2', 'param_name': 'a', 'reason': \"Expected [<class 'int'>, <class 'float'>], got <class 'str'>\"}, {'param_value': 42.42, 'param_name': 'b', 'reason': \"Expected [<class 'int'>], got <class 'float'>\"}]"
     ]
    }
   ],
   "source": [
    "foo(a='42.2', b=42.42)"
   ]
  },
  {
   "cell_type": "code",
   "execution_count": 69,
   "metadata": {
    "collapsed": false
   },
   "outputs": [
    {
     "data": {
      "text/plain": [
       "'Hello World!'"
      ]
     },
     "execution_count": 69,
     "metadata": {},
     "output_type": "execute_result"
    }
   ],
   "source": [
    "bar(a='Hello ', b='World!')"
   ]
  },
  {
   "cell_type": "code",
   "execution_count": 70,
   "metadata": {
    "collapsed": false
   },
   "outputs": [
    {
     "ename": "ValueError",
     "evalue": "[{'param_value': 1.4, 'param_name': 'b', 'reason': \"Expected [<class 'str'>], got <class 'float'>\"}]",
     "output_type": "error",
     "traceback": [
      "\u001b[0;31m---------------------------------------------------------------------------\u001b[0m",
      "\u001b[0;31mValueError\u001b[0m                                Traceback (most recent call last)",
      "\u001b[0;32m<ipython-input-70-ca8c4db98823>\u001b[0m in \u001b[0;36m<module>\u001b[0;34m()\u001b[0m\n\u001b[0;32m----> 1\u001b[0;31m \u001b[0mbar\u001b[0m\u001b[1;33m(\u001b[0m\u001b[0ma\u001b[0m\u001b[1;33m=\u001b[0m\u001b[1;34m'42'\u001b[0m\u001b[1;33m,\u001b[0m \u001b[0mb\u001b[0m\u001b[1;33m=\u001b[0m\u001b[1;36m1.4\u001b[0m\u001b[1;33m)\u001b[0m\u001b[1;33m\u001b[0m\u001b[0m\n\u001b[0m",
      "\u001b[0;32m<ipython-input-65-f836e16ea9b4>\u001b[0m in \u001b[0;36mvalidator\u001b[0;34m(*args, **kwargs)\u001b[0m\n\u001b[1;32m     19\u001b[0m                     })\n\u001b[1;32m     20\u001b[0m             \u001b[1;32mif\u001b[0m \u001b[0merrors\u001b[0m\u001b[1;33m:\u001b[0m\u001b[1;33m\u001b[0m\u001b[0m\n\u001b[0;32m---> 21\u001b[0;31m                 \u001b[1;32mraise\u001b[0m \u001b[0mValueError\u001b[0m\u001b[1;33m(\u001b[0m\u001b[0merrors\u001b[0m\u001b[1;33m)\u001b[0m\u001b[1;33m\u001b[0m\u001b[0m\n\u001b[0m\u001b[1;32m     22\u001b[0m             \u001b[1;32mreturn\u001b[0m \u001b[0mfoo\u001b[0m\u001b[1;33m(\u001b[0m\u001b[1;33m*\u001b[0m\u001b[0margs\u001b[0m\u001b[1;33m,\u001b[0m \u001b[1;33m**\u001b[0m\u001b[0mkwargs\u001b[0m\u001b[1;33m)\u001b[0m\u001b[1;33m\u001b[0m\u001b[0m\n\u001b[1;32m     23\u001b[0m         \u001b[1;32mreturn\u001b[0m \u001b[0mvalidator\u001b[0m\u001b[1;33m\u001b[0m\u001b[0m\n",
      "\u001b[0;31mValueError\u001b[0m: [{'param_value': 1.4, 'param_name': 'b', 'reason': \"Expected [<class 'str'>], got <class 'float'>\"}]"
     ]
    }
   ],
   "source": [
    "bar(a='42', b=1.4)"
   ]
  },
  {
   "cell_type": "markdown",
   "metadata": {},
   "source": [
    "## Perfomance "
   ]
  },
  {
   "cell_type": "code",
   "execution_count": 77,
   "metadata": {
    "collapsed": false
   },
   "outputs": [
    {
     "name": "stdout",
     "output_type": "stream",
     "text": [
      "1000 loops, best of 3: 1.23 ms per loop\n"
     ]
    }
   ],
   "source": [
    "from random import randint as ri\n",
    "\n",
    "@validate_types(a=[int, float], b=int, kwarg=[str, type(None)])\n",
    "def decorated_perfomance_test(arg, kwarg=None, *, a, b):  \n",
    "    return [ri(1,10) for i in range(10**3)]\n",
    "\n",
    "\n",
    "def perfomance_test(arg, kwarg=None, *, a, b):  \n",
    "    return [ri(1,10) for i in range(10**3)]\n",
    "\n",
    "% timeit decorated_perfomance_test(42, kwarg='some_param', a=42.2, b=42)"
   ]
  },
  {
   "cell_type": "code",
   "execution_count": 78,
   "metadata": {
    "collapsed": false
   },
   "outputs": [
    {
     "name": "stdout",
     "output_type": "stream",
     "text": [
      "1000 loops, best of 3: 1.21 ms per loop\n"
     ]
    }
   ],
   "source": [
    "% timeit perfomance_test(42, kwarg='some_param', a=42.2, b=42)"
   ]
  },
  {
   "cell_type": "code",
   "execution_count": 79,
   "metadata": {
    "collapsed": false
   },
   "outputs": [
    {
     "name": "stdout",
     "output_type": "stream",
     "text": [
      "1000 loops, best of 3: 1.21 ms per loop\n"
     ]
    }
   ],
   "source": [
    "% timeit [ri(1,10) for i in range(10**3)]"
   ]
  }
 ],
 "metadata": {
  "anaconda-cloud": {},
  "kernelspec": {
   "display_name": "Python [conda root]",
   "language": "python",
   "name": "conda-root-py"
  },
  "language_info": {
   "codemirror_mode": {
    "name": "ipython",
    "version": 3
   },
   "file_extension": ".py",
   "mimetype": "text/x-python",
   "name": "python",
   "nbconvert_exporter": "python",
   "pygments_lexer": "ipython3",
   "version": "3.5.2"
  }
 },
 "nbformat": 4,
 "nbformat_minor": 1
}
